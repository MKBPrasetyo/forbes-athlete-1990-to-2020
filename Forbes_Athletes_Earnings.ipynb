{
 "cells": [
  {
   "cell_type": "markdown",
   "id": "4f7bda10-eb65-4b25-bcbe-7feec58e5e27",
   "metadata": {
    "tags": []
   },
   "source": [
    "# Forbes Highest Paid Athletes 1990 - 2020"
   ]
  },
  {
   "cell_type": "markdown",
   "id": "013ce4d8-0513-40eb-8ac2-4db23d958e70",
   "metadata": {},
   "source": [
    "- Data downloaded from kaggle\n",
    "- Data contains athelete names, nationality, sport, earnings, and year\n",
    "- Each year has 10 athletes with highest earnings\n",
    "- Using this data to find out how much athlete's earning grows from 1990 to 2020"
   ]
  },
  {
   "cell_type": "markdown",
   "id": "874437a2-9c03-4a71-997e-245a935cc267",
   "metadata": {},
   "source": [
    "## Import data"
   ]
  },
  {
   "cell_type": "code",
   "execution_count": 3,
   "id": "d305c6f3-fffb-48e4-b2da-69ebbe465096",
   "metadata": {},
   "outputs": [
    {
     "data": {
      "text/html": [
       "<div>\n",
       "<style scoped>\n",
       "    .dataframe tbody tr th:only-of-type {\n",
       "        vertical-align: middle;\n",
       "    }\n",
       "\n",
       "    .dataframe tbody tr th {\n",
       "        vertical-align: top;\n",
       "    }\n",
       "\n",
       "    .dataframe thead th {\n",
       "        text-align: right;\n",
       "    }\n",
       "</style>\n",
       "<table border=\"1\" class=\"dataframe\">\n",
       "  <thead>\n",
       "    <tr style=\"text-align: right;\">\n",
       "      <th></th>\n",
       "      <th>S.NO</th>\n",
       "      <th>Name</th>\n",
       "      <th>Nationality</th>\n",
       "      <th>Current Rank</th>\n",
       "      <th>Previous Year Rank</th>\n",
       "      <th>Sport</th>\n",
       "      <th>Year</th>\n",
       "      <th>earnings ($ million)</th>\n",
       "    </tr>\n",
       "  </thead>\n",
       "  <tbody>\n",
       "    <tr>\n",
       "      <th>0</th>\n",
       "      <td>1</td>\n",
       "      <td>Mike Tyson</td>\n",
       "      <td>USA</td>\n",
       "      <td>1</td>\n",
       "      <td>NaN</td>\n",
       "      <td>boxing</td>\n",
       "      <td>1990</td>\n",
       "      <td>28.6</td>\n",
       "    </tr>\n",
       "    <tr>\n",
       "      <th>1</th>\n",
       "      <td>2</td>\n",
       "      <td>Buster Douglas</td>\n",
       "      <td>USA</td>\n",
       "      <td>2</td>\n",
       "      <td>NaN</td>\n",
       "      <td>boxing</td>\n",
       "      <td>1990</td>\n",
       "      <td>26.0</td>\n",
       "    </tr>\n",
       "    <tr>\n",
       "      <th>2</th>\n",
       "      <td>3</td>\n",
       "      <td>Sugar Ray Leonard</td>\n",
       "      <td>USA</td>\n",
       "      <td>3</td>\n",
       "      <td>NaN</td>\n",
       "      <td>boxing</td>\n",
       "      <td>1990</td>\n",
       "      <td>13.0</td>\n",
       "    </tr>\n",
       "    <tr>\n",
       "      <th>3</th>\n",
       "      <td>4</td>\n",
       "      <td>Ayrton Senna</td>\n",
       "      <td>Brazil</td>\n",
       "      <td>4</td>\n",
       "      <td>NaN</td>\n",
       "      <td>auto racing</td>\n",
       "      <td>1990</td>\n",
       "      <td>10.0</td>\n",
       "    </tr>\n",
       "    <tr>\n",
       "      <th>4</th>\n",
       "      <td>5</td>\n",
       "      <td>Alain Prost</td>\n",
       "      <td>France</td>\n",
       "      <td>5</td>\n",
       "      <td>NaN</td>\n",
       "      <td>auto racing</td>\n",
       "      <td>1990</td>\n",
       "      <td>9.0</td>\n",
       "    </tr>\n",
       "  </tbody>\n",
       "</table>\n",
       "</div>"
      ],
      "text/plain": [
       "   S.NO               Name Nationality  Current Rank Previous Year Rank  \\\n",
       "0     1         Mike Tyson         USA             1                NaN   \n",
       "1     2     Buster Douglas         USA             2                NaN   \n",
       "2     3  Sugar Ray Leonard         USA             3                NaN   \n",
       "3     4       Ayrton Senna      Brazil             4                NaN   \n",
       "4     5        Alain Prost      France             5                NaN   \n",
       "\n",
       "         Sport  Year  earnings ($ million)  \n",
       "0       boxing  1990                  28.6  \n",
       "1       boxing  1990                  26.0  \n",
       "2       boxing  1990                  13.0  \n",
       "3  auto racing  1990                  10.0  \n",
       "4  auto racing  1990                   9.0  "
      ]
     },
     "execution_count": 3,
     "metadata": {},
     "output_type": "execute_result"
    }
   ],
   "source": [
    "import pandas as pd\n",
    "data = pd.read_csv(\"Forbes_Athletes.csv\")\n",
    "data.head()"
   ]
  },
  {
   "cell_type": "markdown",
   "id": "5a718eea-4b3f-4f3a-bcbf-83d47887c476",
   "metadata": {},
   "source": [
    "## Data Prep"
   ]
  },
  {
   "cell_type": "code",
   "execution_count": 4,
   "id": "520c4bb7-4b32-4c47-a6fb-63bd83f861ae",
   "metadata": {},
   "outputs": [],
   "source": [
    "# Deleting S.No Column\n",
    "data1 = data.copy()\n",
    "data1.drop(\"S.NO\", axis=1 ,inplace = True)"
   ]
  },
  {
   "cell_type": "code",
   "execution_count": 5,
   "id": "558fc3aa-2722-4f86-92e9-ee46900b0975",
   "metadata": {},
   "outputs": [
    {
     "data": {
      "text/plain": [
       "Name                     object\n",
       "Nationality              object\n",
       "Current Rank              int64\n",
       "Previous Year Rank       object\n",
       "Sport                    object\n",
       "Year                      int64\n",
       "earnings ($ million)    float64\n",
       "dtype: object"
      ]
     },
     "execution_count": 5,
     "metadata": {},
     "output_type": "execute_result"
    }
   ],
   "source": [
    "# Checking data types\n",
    "data1.dtypes"
   ]
  },
  {
   "cell_type": "code",
   "execution_count": 6,
   "id": "1d3605a9-2f31-4540-aeb0-bda58c072ffa",
   "metadata": {},
   "outputs": [],
   "source": [
    "# Change Year type to datetime\n",
    "data1.Year = data1.Year.apply(pd.to_datetime, format='%Y')\n",
    "data1.Year = pd.DatetimeIndex(data1.Year).year\n",
    "\n",
    "# Set Year as index\n",
    "data1.set_index('Year', inplace=True)"
   ]
  },
  {
   "cell_type": "code",
   "execution_count": 23,
   "id": "52224373-b27d-4cda-929d-6b1b8fab9dc8",
   "metadata": {},
   "outputs": [
    {
     "data": {
      "text/html": [
       "<div>\n",
       "<style scoped>\n",
       "    .dataframe tbody tr th:only-of-type {\n",
       "        vertical-align: middle;\n",
       "    }\n",
       "\n",
       "    .dataframe tbody tr th {\n",
       "        vertical-align: top;\n",
       "    }\n",
       "\n",
       "    .dataframe thead th {\n",
       "        text-align: right;\n",
       "    }\n",
       "</style>\n",
       "<table border=\"1\" class=\"dataframe\">\n",
       "  <thead>\n",
       "    <tr style=\"text-align: right;\">\n",
       "      <th></th>\n",
       "      <th>Name</th>\n",
       "      <th>Nationality</th>\n",
       "      <th>Current Rank</th>\n",
       "      <th>Previous Year Rank</th>\n",
       "      <th>Sport</th>\n",
       "      <th>earnings ($ million)</th>\n",
       "    </tr>\n",
       "    <tr>\n",
       "      <th>Year</th>\n",
       "      <th></th>\n",
       "      <th></th>\n",
       "      <th></th>\n",
       "      <th></th>\n",
       "      <th></th>\n",
       "      <th></th>\n",
       "    </tr>\n",
       "  </thead>\n",
       "  <tbody>\n",
       "    <tr>\n",
       "      <th>1990</th>\n",
       "      <td>Mike Tyson</td>\n",
       "      <td>USA</td>\n",
       "      <td>1</td>\n",
       "      <td>NaN</td>\n",
       "      <td>BOXING</td>\n",
       "      <td>28.6</td>\n",
       "    </tr>\n",
       "    <tr>\n",
       "      <th>1990</th>\n",
       "      <td>Buster Douglas</td>\n",
       "      <td>USA</td>\n",
       "      <td>2</td>\n",
       "      <td>NaN</td>\n",
       "      <td>BOXING</td>\n",
       "      <td>26.0</td>\n",
       "    </tr>\n",
       "    <tr>\n",
       "      <th>1990</th>\n",
       "      <td>Sugar Ray Leonard</td>\n",
       "      <td>USA</td>\n",
       "      <td>3</td>\n",
       "      <td>NaN</td>\n",
       "      <td>BOXING</td>\n",
       "      <td>13.0</td>\n",
       "    </tr>\n",
       "    <tr>\n",
       "      <th>1990</th>\n",
       "      <td>Ayrton Senna</td>\n",
       "      <td>Brazil</td>\n",
       "      <td>4</td>\n",
       "      <td>NaN</td>\n",
       "      <td>AUTO RACING</td>\n",
       "      <td>10.0</td>\n",
       "    </tr>\n",
       "    <tr>\n",
       "      <th>1990</th>\n",
       "      <td>Alain Prost</td>\n",
       "      <td>France</td>\n",
       "      <td>5</td>\n",
       "      <td>NaN</td>\n",
       "      <td>AUTO RACING</td>\n",
       "      <td>9.0</td>\n",
       "    </tr>\n",
       "  </tbody>\n",
       "</table>\n",
       "</div>"
      ],
      "text/plain": [
       "                   Name Nationality  Current Rank Previous Year Rank  \\\n",
       "Year                                                                   \n",
       "1990         Mike Tyson         USA             1                NaN   \n",
       "1990     Buster Douglas         USA             2                NaN   \n",
       "1990  Sugar Ray Leonard         USA             3                NaN   \n",
       "1990       Ayrton Senna      Brazil             4                NaN   \n",
       "1990        Alain Prost      France             5                NaN   \n",
       "\n",
       "            Sport  earnings ($ million)  \n",
       "Year                                     \n",
       "1990       BOXING                  28.6  \n",
       "1990       BOXING                  26.0  \n",
       "1990       BOXING                  13.0  \n",
       "1990  AUTO RACING                  10.0  \n",
       "1990  AUTO RACING                   9.0  "
      ]
     },
     "execution_count": 23,
     "metadata": {},
     "output_type": "execute_result"
    }
   ],
   "source": [
    "# Capitalize each word in Sport column\n",
    "data1.Sport = data1.Sport.str.upper()\n",
    "data1.head()"
   ]
  },
  {
   "cell_type": "markdown",
   "id": "cd68bae4-3146-400d-a9d7-1bda9b0b50ca",
   "metadata": {},
   "source": [
    "## Highest Paid Athletes in 2020"
   ]
  },
  {
   "cell_type": "code",
   "execution_count": 24,
   "id": "b11653b6-d222-4a07-9965-3cb4bd065ddb",
   "metadata": {},
   "outputs": [
    {
     "data": {
      "image/png": "[encoded data removed]",
      "text/plain": [
       "<Figure size 864x432 with 1 Axes>"
      ]
     },
     "metadata": {
      "needs_background": "light"
     },
     "output_type": "display_data"
    }
   ],
   "source": [
    "import matplotlib.pyplot as plt\n",
    "data_2020 = data1[data1.index == 2020].sort_values(by=['earnings ($ million)'])\n",
    "plt.figure(figsize=(12,6))\n",
    "plt.barh(data_2020['Name'], data_2020['earnings ($ million)'])\n",
    "plt.title('Highest Paid Athletes in 2020')\n",
    "plt.xlabel('Earning ($ Million)')\n",
    "plt.show()"
   ]
  },
  {
   "cell_type": "markdown",
   "id": "26f1b3e5-53e7-47cf-9a87-23b16016b571",
   "metadata": {},
   "source": [
    "## Highest Paid Athletes in 1990"
   ]
  },
  {
   "cell_type": "code",
   "execution_count": 9,
   "id": "9000ed10-9bda-4353-ad27-e8597aa3076b",
   "metadata": {},
   "outputs": [
    {
     "data": {
      "image/png": "[encoded data removed]",
      "text/plain": [
       "<Figure size 864x432 with 1 Axes>"
      ]
     },
     "metadata": {
      "needs_background": "light"
     },
     "output_type": "display_data"
    }
   ],
   "source": [
    "data_1990 = data1[data1.index == 1990].sort_values(by=['earnings ($ million)'])\n",
    "plt.figure(figsize=(12,6))\n",
    "plt.barh(data_1990['Name'], data_1990['earnings ($ million)'])\n",
    "plt.title('Highest Paid Athletes in 2020')\n",
    "plt.xlabel('Earning ($ Million)')\n",
    "plt.show()"
   ]
  },
  {
   "cell_type": "markdown",
   "id": "76bc30ff-27ab-4e1c-9651-09273ccd1850",
   "metadata": {},
   "source": [
    "## Highest Paid Athletes for Each Year from 1990 - 2020"
   ]
  },
  {
   "cell_type": "code",
   "execution_count": 25,
   "id": "389eac3d-3325-472b-8eec-f8d79f81e22a",
   "metadata": {},
   "outputs": [
    {
     "data": {
      "text/html": [
       "<style  type=\"text/css\" >\n",
       "#T_fc989_row0_col3{\n",
       "            background-color:  #fcaf93;\n",
       "            color:  #000000;\n",
       "        }#T_fc989_row1_col3{\n",
       "            background-color:  #fc9777;\n",
       "            color:  #000000;\n",
       "        }#T_fc989_row2_col3{\n",
       "            background-color:  #820711;\n",
       "            color:  #f1f1f1;\n",
       "        }#T_fc989_row3_col3{\n",
       "            background-color:  #fcbfa7;\n",
       "            color:  #000000;\n",
       "        }#T_fc989_row4_col3{\n",
       "            background-color:  #fcc4ad;\n",
       "            color:  #000000;\n",
       "        }#T_fc989_row5_col3{\n",
       "            background-color:  #67000d;\n",
       "            color:  #f1f1f1;\n",
       "        }#T_fc989_row6_col3,#T_fc989_row10_col3{\n",
       "            background-color:  #fcb095;\n",
       "            color:  #000000;\n",
       "        }#T_fc989_row7_col3,#T_fc989_row17_col3,#T_fc989_row22_col3{\n",
       "            background-color:  #fdd0bc;\n",
       "            color:  #000000;\n",
       "        }#T_fc989_row8_col3{\n",
       "            background-color:  #fdc7b2;\n",
       "            color:  #000000;\n",
       "        }#T_fc989_row9_col3,#T_fc989_row23_col3{\n",
       "            background-color:  #fdd3c1;\n",
       "            color:  #000000;\n",
       "        }#T_fc989_row11_col3{\n",
       "            background-color:  #fcab8f;\n",
       "            color:  #000000;\n",
       "        }#T_fc989_row12_col3{\n",
       "            background-color:  #fca588;\n",
       "            color:  #000000;\n",
       "        }#T_fc989_row13_col3{\n",
       "            background-color:  #fcb79c;\n",
       "            color:  #000000;\n",
       "        }#T_fc989_row14_col3{\n",
       "            background-color:  #fcc3ab;\n",
       "            color:  #000000;\n",
       "        }#T_fc989_row15_col3{\n",
       "            background-color:  #fdc5ae;\n",
       "            color:  #000000;\n",
       "        }#T_fc989_row16_col3{\n",
       "            background-color:  #fdcdb9;\n",
       "            color:  #000000;\n",
       "        }#T_fc989_row18_col3,#T_fc989_row21_col3{\n",
       "            background-color:  #fed9c9;\n",
       "            color:  #000000;\n",
       "        }#T_fc989_row19_col3{\n",
       "            background-color:  #fee3d6;\n",
       "            color:  #000000;\n",
       "        }#T_fc989_row20_col3{\n",
       "            background-color:  #fee8de;\n",
       "            color:  #000000;\n",
       "        }#T_fc989_row24_col3{\n",
       "            background-color:  #ffece3;\n",
       "            color:  #000000;\n",
       "        }#T_fc989_row25_col3{\n",
       "            background-color:  #fff4ef;\n",
       "            color:  #000000;\n",
       "        }#T_fc989_row26_col3,#T_fc989_row27_col3{\n",
       "            background-color:  #fff1ea;\n",
       "            color:  #000000;\n",
       "        }#T_fc989_row28_col3{\n",
       "            background-color:  #fee1d4;\n",
       "            color:  #000000;\n",
       "        }#T_fc989_row29_col3{\n",
       "            background-color:  #fff5f0;\n",
       "            color:  #000000;\n",
       "        }</style><table id=\"T_fc989_\" ><thead>    <tr>        <th class=\"blank level0\" ></th>        <th class=\"col_heading level0 col0\" >Name</th>        <th class=\"col_heading level0 col1\" >Sport</th>        <th class=\"col_heading level0 col2\" >Nationality</th>        <th class=\"col_heading level0 col3\" >earnings ($ million)</th>    </tr>    <tr>        <th class=\"index_name level0\" >Year</th>        <th class=\"blank\" ></th>        <th class=\"blank\" ></th>        <th class=\"blank\" ></th>        <th class=\"blank\" ></th>    </tr></thead><tbody>\n",
       "                <tr>\n",
       "                        <th id=\"T_fc989_level0_row0\" class=\"row_heading level0 row0\" >2020</th>\n",
       "                        <td id=\"T_fc989_row0_col0\" class=\"data row0 col0\" >Roger Federer</td>\n",
       "                        <td id=\"T_fc989_row0_col1\" class=\"data row0 col1\" >TENNIS</td>\n",
       "                        <td id=\"T_fc989_row0_col2\" class=\"data row0 col2\" >Switzerland</td>\n",
       "                        <td id=\"T_fc989_row0_col3\" class=\"data row0 col3\" >106.300000</td>\n",
       "            </tr>\n",
       "            <tr>\n",
       "                        <th id=\"T_fc989_level0_row1\" class=\"row_heading level0 row1\" >2019</th>\n",
       "                        <td id=\"T_fc989_row1_col0\" class=\"data row1 col0\" >Lionel Messi</td>\n",
       "                        <td id=\"T_fc989_row1_col1\" class=\"data row1 col1\" >SOCCER</td>\n",
       "                        <td id=\"T_fc989_row1_col2\" class=\"data row1 col2\" >Argentina</td>\n",
       "                        <td id=\"T_fc989_row1_col3\" class=\"data row1 col3\" >127.000000</td>\n",
       "            </tr>\n",
       "            <tr>\n",
       "                        <th id=\"T_fc989_level0_row2\" class=\"row_heading level0 row2\" >2018</th>\n",
       "                        <td id=\"T_fc989_row2_col0\" class=\"data row2 col0\" >Floyd Mayweather</td>\n",
       "                        <td id=\"T_fc989_row2_col1\" class=\"data row2 col1\" >BOXING</td>\n",
       "                        <td id=\"T_fc989_row2_col2\" class=\"data row2 col2\" >USA</td>\n",
       "                        <td id=\"T_fc989_row2_col3\" class=\"data row2 col3\" >285.000000</td>\n",
       "            </tr>\n",
       "            <tr>\n",
       "                        <th id=\"T_fc989_level0_row3\" class=\"row_heading level0 row3\" >2017</th>\n",
       "                        <td id=\"T_fc989_row3_col0\" class=\"data row3 col0\" >Cristiano Ronaldo</td>\n",
       "                        <td id=\"T_fc989_row3_col1\" class=\"data row3 col1\" >SOCCER</td>\n",
       "                        <td id=\"T_fc989_row3_col2\" class=\"data row3 col2\" >Portugal</td>\n",
       "                        <td id=\"T_fc989_row3_col3\" class=\"data row3 col3\" >93.000000</td>\n",
       "            </tr>\n",
       "            <tr>\n",
       "                        <th id=\"T_fc989_level0_row4\" class=\"row_heading level0 row4\" >2016</th>\n",
       "                        <td id=\"T_fc989_row4_col0\" class=\"data row4 col0\" >Cristiano Ronaldo</td>\n",
       "                        <td id=\"T_fc989_row4_col1\" class=\"data row4 col1\" >SOCCER</td>\n",
       "                        <td id=\"T_fc989_row4_col2\" class=\"data row4 col2\" >Portugal</td>\n",
       "                        <td id=\"T_fc989_row4_col3\" class=\"data row4 col3\" >88.000000</td>\n",
       "            </tr>\n",
       "            <tr>\n",
       "                        <th id=\"T_fc989_level0_row5\" class=\"row_heading level0 row5\" >2015</th>\n",
       "                        <td id=\"T_fc989_row5_col0\" class=\"data row5 col0\" >Floyd Mayweather</td>\n",
       "                        <td id=\"T_fc989_row5_col1\" class=\"data row5 col1\" >BOXING</td>\n",
       "                        <td id=\"T_fc989_row5_col2\" class=\"data row5 col2\" >USA</td>\n",
       "                        <td id=\"T_fc989_row5_col3\" class=\"data row5 col3\" >300.000000</td>\n",
       "            </tr>\n",
       "            <tr>\n",
       "                        <th id=\"T_fc989_level0_row6\" class=\"row_heading level0 row6\" >2014</th>\n",
       "                        <td id=\"T_fc989_row6_col0\" class=\"data row6 col0\" >Floyd Mayweather</td>\n",
       "                        <td id=\"T_fc989_row6_col1\" class=\"data row6 col1\" >BOXING</td>\n",
       "                        <td id=\"T_fc989_row6_col2\" class=\"data row6 col2\" >USA</td>\n",
       "                        <td id=\"T_fc989_row6_col3\" class=\"data row6 col3\" >105.000000</td>\n",
       "            </tr>\n",
       "            <tr>\n",
       "                        <th id=\"T_fc989_level0_row7\" class=\"row_heading level0 row7\" >2013</th>\n",
       "                        <td id=\"T_fc989_row7_col0\" class=\"data row7 col0\" >Tiger Woods</td>\n",
       "                        <td id=\"T_fc989_row7_col1\" class=\"data row7 col1\" >GOLF</td>\n",
       "                        <td id=\"T_fc989_row7_col2\" class=\"data row7 col2\" >USA</td>\n",
       "                        <td id=\"T_fc989_row7_col3\" class=\"data row7 col3\" >78.100000</td>\n",
       "            </tr>\n",
       "            <tr>\n",
       "                        <th id=\"T_fc989_level0_row8\" class=\"row_heading level0 row8\" >2012</th>\n",
       "                        <td id=\"T_fc989_row8_col0\" class=\"data row8 col0\" >Floyd Mayweather</td>\n",
       "                        <td id=\"T_fc989_row8_col1\" class=\"data row8 col1\" >BOXING</td>\n",
       "                        <td id=\"T_fc989_row8_col2\" class=\"data row8 col2\" >USA</td>\n",
       "                        <td id=\"T_fc989_row8_col3\" class=\"data row8 col3\" >85.000000</td>\n",
       "            </tr>\n",
       "            <tr>\n",
       "                        <th id=\"T_fc989_level0_row9\" class=\"row_heading level0 row9\" >2011</th>\n",
       "                        <td id=\"T_fc989_row9_col0\" class=\"data row9 col0\" >Tiger Woods</td>\n",
       "                        <td id=\"T_fc989_row9_col1\" class=\"data row9 col1\" >GOLF</td>\n",
       "                        <td id=\"T_fc989_row9_col2\" class=\"data row9 col2\" >USA</td>\n",
       "                        <td id=\"T_fc989_row9_col3\" class=\"data row9 col3\" >75.000000</td>\n",
       "            </tr>\n",
       "            <tr>\n",
       "                        <th id=\"T_fc989_level0_row10\" class=\"row_heading level0 row10\" >2010</th>\n",
       "                        <td id=\"T_fc989_row10_col0\" class=\"data row10 col0\" >Tiger Woods</td>\n",
       "                        <td id=\"T_fc989_row10_col1\" class=\"data row10 col1\" >GOLF</td>\n",
       "                        <td id=\"T_fc989_row10_col2\" class=\"data row10 col2\" >USA</td>\n",
       "                        <td id=\"T_fc989_row10_col3\" class=\"data row10 col3\" >105.000000</td>\n",
       "            </tr>\n",
       "            <tr>\n",
       "                        <th id=\"T_fc989_level0_row11\" class=\"row_heading level0 row11\" >2009</th>\n",
       "                        <td id=\"T_fc989_row11_col0\" class=\"data row11 col0\" >Tiger Woods</td>\n",
       "                        <td id=\"T_fc989_row11_col1\" class=\"data row11 col1\" >GOLF</td>\n",
       "                        <td id=\"T_fc989_row11_col2\" class=\"data row11 col2\" >USA</td>\n",
       "                        <td id=\"T_fc989_row11_col3\" class=\"data row11 col3\" >110.000000</td>\n",
       "            </tr>\n",
       "            <tr>\n",
       "                        <th id=\"T_fc989_level0_row12\" class=\"row_heading level0 row12\" >2008</th>\n",
       "                        <td id=\"T_fc989_row12_col0\" class=\"data row12 col0\" >Tiger Woods</td>\n",
       "                        <td id=\"T_fc989_row12_col1\" class=\"data row12 col1\" >GOLF</td>\n",
       "                        <td id=\"T_fc989_row12_col2\" class=\"data row12 col2\" >USA</td>\n",
       "                        <td id=\"T_fc989_row12_col3\" class=\"data row12 col3\" >115.000000</td>\n",
       "            </tr>\n",
       "            <tr>\n",
       "                        <th id=\"T_fc989_level0_row13\" class=\"row_heading level0 row13\" >2007</th>\n",
       "                        <td id=\"T_fc989_row13_col0\" class=\"data row13 col0\" >Tiger Woods</td>\n",
       "                        <td id=\"T_fc989_row13_col1\" class=\"data row13 col1\" >GOLF</td>\n",
       "                        <td id=\"T_fc989_row13_col2\" class=\"data row13 col2\" >USA</td>\n",
       "                        <td id=\"T_fc989_row13_col3\" class=\"data row13 col3\" >100.000000</td>\n",
       "            </tr>\n",
       "            <tr>\n",
       "                        <th id=\"T_fc989_level0_row14\" class=\"row_heading level0 row14\" >2006</th>\n",
       "                        <td id=\"T_fc989_row14_col0\" class=\"data row14 col0\" >Tiger Woods</td>\n",
       "                        <td id=\"T_fc989_row14_col1\" class=\"data row14 col1\" >GOLF</td>\n",
       "                        <td id=\"T_fc989_row14_col2\" class=\"data row14 col2\" >USA</td>\n",
       "                        <td id=\"T_fc989_row14_col3\" class=\"data row14 col3\" >90.000000</td>\n",
       "            </tr>\n",
       "            <tr>\n",
       "                        <th id=\"T_fc989_level0_row15\" class=\"row_heading level0 row15\" >2005</th>\n",
       "                        <td id=\"T_fc989_row15_col0\" class=\"data row15 col0\" >Tiger Woods</td>\n",
       "                        <td id=\"T_fc989_row15_col1\" class=\"data row15 col1\" >GOLF</td>\n",
       "                        <td id=\"T_fc989_row15_col2\" class=\"data row15 col2\" >USA</td>\n",
       "                        <td id=\"T_fc989_row15_col3\" class=\"data row15 col3\" >87.000000</td>\n",
       "            </tr>\n",
       "            <tr>\n",
       "                        <th id=\"T_fc989_level0_row16\" class=\"row_heading level0 row16\" >2004</th>\n",
       "                        <td id=\"T_fc989_row16_col0\" class=\"data row16 col0\" >Tiger Woods</td>\n",
       "                        <td id=\"T_fc989_row16_col1\" class=\"data row16 col1\" >GOLF</td>\n",
       "                        <td id=\"T_fc989_row16_col2\" class=\"data row16 col2\" >USA</td>\n",
       "                        <td id=\"T_fc989_row16_col3\" class=\"data row16 col3\" >80.300000</td>\n",
       "            </tr>\n",
       "            <tr>\n",
       "                        <th id=\"T_fc989_level0_row17\" class=\"row_heading level0 row17\" >2003</th>\n",
       "                        <td id=\"T_fc989_row17_col0\" class=\"data row17 col0\" >Tiger Woods</td>\n",
       "                        <td id=\"T_fc989_row17_col1\" class=\"data row17 col1\" >GOLF</td>\n",
       "                        <td id=\"T_fc989_row17_col2\" class=\"data row17 col2\" >USA</td>\n",
       "                        <td id=\"T_fc989_row17_col3\" class=\"data row17 col3\" >78.000000</td>\n",
       "            </tr>\n",
       "            <tr>\n",
       "                        <th id=\"T_fc989_level0_row18\" class=\"row_heading level0 row18\" >2002</th>\n",
       "                        <td id=\"T_fc989_row18_col0\" class=\"data row18 col0\" >Tiger Woods</td>\n",
       "                        <td id=\"T_fc989_row18_col1\" class=\"data row18 col1\" >GOLF</td>\n",
       "                        <td id=\"T_fc989_row18_col2\" class=\"data row18 col2\" >USA</td>\n",
       "                        <td id=\"T_fc989_row18_col3\" class=\"data row18 col3\" >69.000000</td>\n",
       "            </tr>\n",
       "            <tr>\n",
       "                        <th id=\"T_fc989_level0_row19\" class=\"row_heading level0 row19\" >2000</th>\n",
       "                        <td id=\"T_fc989_row19_col0\" class=\"data row19 col0\" >Michael Schumacher</td>\n",
       "                        <td id=\"T_fc989_row19_col1\" class=\"data row19 col1\" >AUTO RACING</td>\n",
       "                        <td id=\"T_fc989_row19_col2\" class=\"data row19 col2\" >Germany</td>\n",
       "                        <td id=\"T_fc989_row19_col3\" class=\"data row19 col3\" >59.000000</td>\n",
       "            </tr>\n",
       "            <tr>\n",
       "                        <th id=\"T_fc989_level0_row20\" class=\"row_heading level0 row20\" >1999</th>\n",
       "                        <td id=\"T_fc989_row20_col0\" class=\"data row20 col0\" >Michael Schumacher</td>\n",
       "                        <td id=\"T_fc989_row20_col1\" class=\"data row20 col1\" >AUTO RACING</td>\n",
       "                        <td id=\"T_fc989_row20_col2\" class=\"data row20 col2\" >Germany</td>\n",
       "                        <td id=\"T_fc989_row20_col3\" class=\"data row20 col3\" >49.000000</td>\n",
       "            </tr>\n",
       "            <tr>\n",
       "                        <th id=\"T_fc989_level0_row21\" class=\"row_heading level0 row21\" >1998</th>\n",
       "                        <td id=\"T_fc989_row21_col0\" class=\"data row21 col0\" >Michael Jordan</td>\n",
       "                        <td id=\"T_fc989_row21_col1\" class=\"data row21 col1\" >BASKETBALL</td>\n",
       "                        <td id=\"T_fc989_row21_col2\" class=\"data row21 col2\" >USA</td>\n",
       "                        <td id=\"T_fc989_row21_col3\" class=\"data row21 col3\" >69.000000</td>\n",
       "            </tr>\n",
       "            <tr>\n",
       "                        <th id=\"T_fc989_level0_row22\" class=\"row_heading level0 row22\" >1997</th>\n",
       "                        <td id=\"T_fc989_row22_col0\" class=\"data row22 col0\" >Michael Jordan</td>\n",
       "                        <td id=\"T_fc989_row22_col1\" class=\"data row22 col1\" >BASKETBALL</td>\n",
       "                        <td id=\"T_fc989_row22_col2\" class=\"data row22 col2\" >USA</td>\n",
       "                        <td id=\"T_fc989_row22_col3\" class=\"data row22 col3\" >78.300000</td>\n",
       "            </tr>\n",
       "            <tr>\n",
       "                        <th id=\"T_fc989_level0_row23\" class=\"row_heading level0 row23\" >1996</th>\n",
       "                        <td id=\"T_fc989_row23_col0\" class=\"data row23 col0\" >Mike Tyson</td>\n",
       "                        <td id=\"T_fc989_row23_col1\" class=\"data row23 col1\" >BOXING</td>\n",
       "                        <td id=\"T_fc989_row23_col2\" class=\"data row23 col2\" >USA</td>\n",
       "                        <td id=\"T_fc989_row23_col3\" class=\"data row23 col3\" >75.000000</td>\n",
       "            </tr>\n",
       "            <tr>\n",
       "                        <th id=\"T_fc989_level0_row24\" class=\"row_heading level0 row24\" >1995</th>\n",
       "                        <td id=\"T_fc989_row24_col0\" class=\"data row24 col0\" >Michael Jordan</td>\n",
       "                        <td id=\"T_fc989_row24_col1\" class=\"data row24 col1\" >BASKETBALL</td>\n",
       "                        <td id=\"T_fc989_row24_col2\" class=\"data row24 col2\" >USA</td>\n",
       "                        <td id=\"T_fc989_row24_col3\" class=\"data row24 col3\" >43.900000</td>\n",
       "            </tr>\n",
       "            <tr>\n",
       "                        <th id=\"T_fc989_level0_row25\" class=\"row_heading level0 row25\" >1994</th>\n",
       "                        <td id=\"T_fc989_row25_col0\" class=\"data row25 col0\" >Michael Jordan</td>\n",
       "                        <td id=\"T_fc989_row25_col1\" class=\"data row25 col1\" >BASKETBALL</td>\n",
       "                        <td id=\"T_fc989_row25_col2\" class=\"data row25 col2\" >USA</td>\n",
       "                        <td id=\"T_fc989_row25_col3\" class=\"data row25 col3\" >30.000000</td>\n",
       "            </tr>\n",
       "            <tr>\n",
       "                        <th id=\"T_fc989_level0_row26\" class=\"row_heading level0 row26\" >1993</th>\n",
       "                        <td id=\"T_fc989_row26_col0\" class=\"data row26 col0\" >Michael Jordan</td>\n",
       "                        <td id=\"T_fc989_row26_col1\" class=\"data row26 col1\" >BASKETBALL</td>\n",
       "                        <td id=\"T_fc989_row26_col2\" class=\"data row26 col2\" >USA</td>\n",
       "                        <td id=\"T_fc989_row26_col3\" class=\"data row26 col3\" >36.000000</td>\n",
       "            </tr>\n",
       "            <tr>\n",
       "                        <th id=\"T_fc989_level0_row27\" class=\"row_heading level0 row27\" >1992</th>\n",
       "                        <td id=\"T_fc989_row27_col0\" class=\"data row27 col0\" >Michael Jordan</td>\n",
       "                        <td id=\"T_fc989_row27_col1\" class=\"data row27 col1\" >BASKETBALL</td>\n",
       "                        <td id=\"T_fc989_row27_col2\" class=\"data row27 col2\" >USA</td>\n",
       "                        <td id=\"T_fc989_row27_col3\" class=\"data row27 col3\" >35.900000</td>\n",
       "            </tr>\n",
       "            <tr>\n",
       "                        <th id=\"T_fc989_level0_row28\" class=\"row_heading level0 row28\" >1991</th>\n",
       "                        <td id=\"T_fc989_row28_col0\" class=\"data row28 col0\" >Evander Holyfield</td>\n",
       "                        <td id=\"T_fc989_row28_col1\" class=\"data row28 col1\" >BOXING</td>\n",
       "                        <td id=\"T_fc989_row28_col2\" class=\"data row28 col2\" >USA</td>\n",
       "                        <td id=\"T_fc989_row28_col3\" class=\"data row28 col3\" >60.500000</td>\n",
       "            </tr>\n",
       "            <tr>\n",
       "                        <th id=\"T_fc989_level0_row29\" class=\"row_heading level0 row29\" >1990</th>\n",
       "                        <td id=\"T_fc989_row29_col0\" class=\"data row29 col0\" >Mike Tyson</td>\n",
       "                        <td id=\"T_fc989_row29_col1\" class=\"data row29 col1\" >BOXING</td>\n",
       "                        <td id=\"T_fc989_row29_col2\" class=\"data row29 col2\" >USA</td>\n",
       "                        <td id=\"T_fc989_row29_col3\" class=\"data row29 col3\" >28.600000</td>\n",
       "            </tr>\n",
       "    </tbody></table>"
      ],
      "text/plain": [
       "<pandas.io.formats.style.Styler at 0xf2f8fa7670>"
      ]
     },
     "execution_count": 25,
     "metadata": {},
     "output_type": "execute_result"
    }
   ],
   "source": [
    "Top_paid_each_year = data1[data1['Current Rank'] == 1].sort_values(by='Year',ascending=False)\n",
    "\n",
    "z = Top_paid_each_year[['Name','Sport','Nationality','earnings ($ million)']]\n",
    "z.style.background_gradient(cmap='Reds')  "
   ]
  },
  {
   "cell_type": "markdown",
   "id": "685d7b41-fa2e-4213-ba3c-6dedf91c396e",
   "metadata": {},
   "source": [
    "## Top 10 Athletes with Maximum Time Included in the List"
   ]
  },
  {
   "cell_type": "code",
   "execution_count": 26,
   "id": "bbacc77f-f8bf-4e06-84dd-313b18c9ea24",
   "metadata": {},
   "outputs": [
    {
     "data": {
      "text/html": [
       "<style  type=\"text/css\" >\n",
       "#T_97022_row0_col0,#T_97022_row1_col0{\n",
       "            background-color:  #67000d;\n",
       "            color:  #f1f1f1;\n",
       "        }#T_97022_row2_col0{\n",
       "            background-color:  #fb694a;\n",
       "            color:  #000000;\n",
       "        }#T_97022_row3_col0,#T_97022_row4_col0{\n",
       "            background-color:  #fc8a6a;\n",
       "            color:  #000000;\n",
       "        }#T_97022_row5_col0{\n",
       "            background-color:  #fcab8f;\n",
       "            color:  #000000;\n",
       "        }#T_97022_row6_col0{\n",
       "            background-color:  #fdcab5;\n",
       "            color:  #000000;\n",
       "        }#T_97022_row7_col0{\n",
       "            background-color:  #fee5d8;\n",
       "            color:  #000000;\n",
       "        }#T_97022_row8_col0,#T_97022_row9_col0{\n",
       "            background-color:  #fff5f0;\n",
       "            color:  #000000;\n",
       "        }</style><table id=\"T_97022_\" ><thead>    <tr>        <th class=\"blank level0\" ></th>        <th class=\"col_heading level0 col0\" >Name</th>    </tr></thead><tbody>\n",
       "                <tr>\n",
       "                        <th id=\"T_97022_level0_row0\" class=\"row_heading level0 row0\" >Michael Jordan</th>\n",
       "                        <td id=\"T_97022_row0_col0\" class=\"data row0 col0\" >19</td>\n",
       "            </tr>\n",
       "            <tr>\n",
       "                        <th id=\"T_97022_level0_row1\" class=\"row_heading level0 row1\" >Tiger Woods</th>\n",
       "                        <td id=\"T_97022_row1_col0\" class=\"data row1 col0\" >19</td>\n",
       "            </tr>\n",
       "            <tr>\n",
       "                        <th id=\"T_97022_level0_row2\" class=\"row_heading level0 row2\" >Kobe Bryant</th>\n",
       "                        <td id=\"T_97022_row2_col0\" class=\"data row2 col0\" >14</td>\n",
       "            </tr>\n",
       "            <tr>\n",
       "                        <th id=\"T_97022_level0_row3\" class=\"row_heading level0 row3\" >Michael Schumacher</th>\n",
       "                        <td id=\"T_97022_row3_col0\" class=\"data row3 col0\" >13</td>\n",
       "            </tr>\n",
       "            <tr>\n",
       "                        <th id=\"T_97022_level0_row4\" class=\"row_heading level0 row4\" >LeBron James</th>\n",
       "                        <td id=\"T_97022_row4_col0\" class=\"data row4 col0\" >13</td>\n",
       "            </tr>\n",
       "            <tr>\n",
       "                        <th id=\"T_97022_level0_row5\" class=\"row_heading level0 row5\" >Roger Federer</th>\n",
       "                        <td id=\"T_97022_row5_col0\" class=\"data row5 col0\" >12</td>\n",
       "            </tr>\n",
       "            <tr>\n",
       "                        <th id=\"T_97022_level0_row6\" class=\"row_heading level0 row6\" >Phil Mickelson</th>\n",
       "                        <td id=\"T_97022_row6_col0\" class=\"data row6 col0\" >11</td>\n",
       "            </tr>\n",
       "            <tr>\n",
       "                        <th id=\"T_97022_level0_row7\" class=\"row_heading level0 row7\" >Cristiano Ronaldo</th>\n",
       "                        <td id=\"T_97022_row7_col0\" class=\"data row7 col0\" >10</td>\n",
       "            </tr>\n",
       "            <tr>\n",
       "                        <th id=\"T_97022_level0_row8\" class=\"row_heading level0 row8\" >Shaquille O'Neal</th>\n",
       "                        <td id=\"T_97022_row8_col0\" class=\"data row8 col0\" >9</td>\n",
       "            </tr>\n",
       "            <tr>\n",
       "                        <th id=\"T_97022_level0_row9\" class=\"row_heading level0 row9\" >David Beckham</th>\n",
       "                        <td id=\"T_97022_row9_col0\" class=\"data row9 col0\" >9</td>\n",
       "            </tr>\n",
       "    </tbody></table>"
      ],
      "text/plain": [
       "<pandas.io.formats.style.Styler at 0xf2f93bca30>"
      ]
     },
     "execution_count": 26,
     "metadata": {},
     "output_type": "execute_result"
    }
   ],
   "source": [
    "max_time = data1.Name.value_counts().to_frame()[:10]\n",
    "max_time.style.background_gradient(cmap='Reds')"
   ]
  },
  {
   "cell_type": "markdown",
   "id": "4718a1f5-c262-4bb2-ab60-8a8528a9331c",
   "metadata": {},
   "source": [
    "## Athlete's Nationality"
   ]
  },
  {
   "cell_type": "code",
   "execution_count": 27,
   "id": "60744c55-13c0-45f5-8606-90bb5cfaace8",
   "metadata": {},
   "outputs": [
    {
     "data": {
      "text/html": [
       "<div>\n",
       "<style scoped>\n",
       "    .dataframe tbody tr th:only-of-type {\n",
       "        vertical-align: middle;\n",
       "    }\n",
       "\n",
       "    .dataframe tbody tr th {\n",
       "        vertical-align: top;\n",
       "    }\n",
       "\n",
       "    .dataframe thead th {\n",
       "        text-align: right;\n",
       "    }\n",
       "</style>\n",
       "<table border=\"1\" class=\"dataframe\">\n",
       "  <thead>\n",
       "    <tr style=\"text-align: right;\">\n",
       "      <th></th>\n",
       "      <th>Nationality</th>\n",
       "    </tr>\n",
       "  </thead>\n",
       "  <tbody>\n",
       "    <tr>\n",
       "      <th>USA</th>\n",
       "      <td>68.44</td>\n",
       "    </tr>\n",
       "    <tr>\n",
       "      <th>UK</th>\n",
       "      <td>4.32</td>\n",
       "    </tr>\n",
       "    <tr>\n",
       "      <th>Germany</th>\n",
       "      <td>4.32</td>\n",
       "    </tr>\n",
       "    <tr>\n",
       "      <th>Switzerland</th>\n",
       "      <td>3.99</td>\n",
       "    </tr>\n",
       "    <tr>\n",
       "      <th>Portugal</th>\n",
       "      <td>3.32</td>\n",
       "    </tr>\n",
       "    <tr>\n",
       "      <th>Argentina</th>\n",
       "      <td>2.99</td>\n",
       "    </tr>\n",
       "    <tr>\n",
       "      <th>Brazil</th>\n",
       "      <td>2.99</td>\n",
       "    </tr>\n",
       "    <tr>\n",
       "      <th>Canada</th>\n",
       "      <td>1.99</td>\n",
       "    </tr>\n",
       "    <tr>\n",
       "      <th>Italy</th>\n",
       "      <td>1.33</td>\n",
       "    </tr>\n",
       "    <tr>\n",
       "      <th>France</th>\n",
       "      <td>1.00</td>\n",
       "    </tr>\n",
       "    <tr>\n",
       "      <th>Philippines</th>\n",
       "      <td>1.00</td>\n",
       "    </tr>\n",
       "    <tr>\n",
       "      <th>Finland</th>\n",
       "      <td>1.00</td>\n",
       "    </tr>\n",
       "    <tr>\n",
       "      <th>Filipino</th>\n",
       "      <td>0.33</td>\n",
       "    </tr>\n",
       "    <tr>\n",
       "      <th>Dominican</th>\n",
       "      <td>0.33</td>\n",
       "    </tr>\n",
       "    <tr>\n",
       "      <th>Mexico</th>\n",
       "      <td>0.33</td>\n",
       "    </tr>\n",
       "    <tr>\n",
       "      <th>Serbia</th>\n",
       "      <td>0.33</td>\n",
       "    </tr>\n",
       "    <tr>\n",
       "      <th>Ireland</th>\n",
       "      <td>0.33</td>\n",
       "    </tr>\n",
       "    <tr>\n",
       "      <th>Northern Ireland</th>\n",
       "      <td>0.33</td>\n",
       "    </tr>\n",
       "    <tr>\n",
       "      <th>Spain</th>\n",
       "      <td>0.33</td>\n",
       "    </tr>\n",
       "    <tr>\n",
       "      <th>Austria</th>\n",
       "      <td>0.33</td>\n",
       "    </tr>\n",
       "    <tr>\n",
       "      <th>Australia</th>\n",
       "      <td>0.33</td>\n",
       "    </tr>\n",
       "    <tr>\n",
       "      <th>Russia</th>\n",
       "      <td>0.33</td>\n",
       "    </tr>\n",
       "  </tbody>\n",
       "</table>\n",
       "</div>"
      ],
      "text/plain": [
       "                  Nationality\n",
       "USA                     68.44\n",
       "UK                       4.32\n",
       "Germany                  4.32\n",
       "Switzerland              3.99\n",
       "Portugal                 3.32\n",
       "Argentina                2.99\n",
       "Brazil                   2.99\n",
       "Canada                   1.99\n",
       "Italy                    1.33\n",
       "France                   1.00\n",
       "Philippines              1.00\n",
       "Finland                  1.00\n",
       "Filipino                 0.33\n",
       "Dominican                0.33\n",
       "Mexico                   0.33\n",
       "Serbia                   0.33\n",
       "Ireland                  0.33\n",
       "Northern Ireland         0.33\n",
       "Spain                    0.33\n",
       "Austria                  0.33\n",
       "Australia                0.33\n",
       "Russia                   0.33"
      ]
     },
     "execution_count": 27,
     "metadata": {},
     "output_type": "execute_result"
    }
   ],
   "source": [
    "nat = (data1.Nationality.value_counts()/data1.shape[0]*100).round(2).to_frame()\n",
    "nat"
   ]
  },
  {
   "cell_type": "markdown",
   "id": "efb8a4aa-0b55-496d-9c33-f2e0866f63ca",
   "metadata": {},
   "source": [
    "## Which sport the most included in the list "
   ]
  },
  {
   "cell_type": "code",
   "execution_count": 37,
   "id": "010a90c2-b180-4be5-87f5-8a8db3e44fea",
   "metadata": {},
   "outputs": [
    {
     "data": {
      "image/png": "[encoded data removed]",
      "text/plain": [
       "<Figure size 864x432 with 1 Axes>"
      ]
     },
     "metadata": {
      "needs_background": "light"
     },
     "output_type": "display_data"
    }
   ],
   "source": [
    "sport_count = data1.Sport.value_counts().to_frame()\n",
    "sport_count = sport_count.sort_values(by='Sport')\n",
    "plt.figure(figsize=(12,6))\n",
    "plt.barh(sport_count.index, sport_count.Sport)\n",
    "plt.title('Sports Which Dominates the List')\n",
    "plt.xlabel('Counts')\n",
    "plt.show()"
   ]
  },
  {
   "cell_type": "markdown",
   "id": "06762730-990c-460a-a653-abe2747204e2",
   "metadata": {},
   "source": [
    "## Total earning by Sport"
   ]
  },
  {
   "cell_type": "code",
   "execution_count": 66,
   "id": "0abf5ab8-5978-4470-9f48-1583205a5759",
   "metadata": {},
   "outputs": [
    {
     "data": {
      "image/png": "[encoded data removed]",
      "text/plain": [
       "<Figure size 864x432 with 1 Axes>"
      ]
     },
     "metadata": {
      "needs_background": "light"
     },
     "output_type": "display_data"
    }
   ],
   "source": [
    "sport_earn = pd.pivot_table(data1, index='Sport', values='earnings ($ million)', aggfunc='sum')\n",
    "sport_earn = sport_earn.sort_values(by='earnings ($ million)')\n",
    "plt.figure(figsize=(12,6))\n",
    "plt.barh(sport_earn.index, sport_earn['earnings ($ million)'])\n",
    "plt.title('Total Earnings by Sport')\n",
    "plt.xlabel('$ Million')\n",
    "plt.show()"
   ]
  },
  {
   "cell_type": "markdown",
   "id": "ad1600ea-cd7f-4100-99a9-eaee3c96560c",
   "metadata": {},
   "source": [
    "## Athlete with largest total earnings"
   ]
  },
  {
   "cell_type": "code",
   "execution_count": 45,
   "id": "243ec7e4-d8de-4a1b-a7ee-8adf07766264",
   "metadata": {},
   "outputs": [
    {
     "data": {
      "text/html": [
       "<div>\n",
       "<style scoped>\n",
       "    .dataframe tbody tr th:only-of-type {\n",
       "        vertical-align: middle;\n",
       "    }\n",
       "\n",
       "    .dataframe tbody tr th {\n",
       "        vertical-align: top;\n",
       "    }\n",
       "\n",
       "    .dataframe thead th {\n",
       "        text-align: right;\n",
       "    }\n",
       "</style>\n",
       "<table border=\"1\" class=\"dataframe\">\n",
       "  <thead>\n",
       "    <tr style=\"text-align: right;\">\n",
       "      <th></th>\n",
       "      <th>earnings ($ million)</th>\n",
       "    </tr>\n",
       "    <tr>\n",
       "      <th>Name</th>\n",
       "      <th></th>\n",
       "    </tr>\n",
       "  </thead>\n",
       "  <tbody>\n",
       "    <tr>\n",
       "      <th>Tiger Woods</th>\n",
       "      <td>1373.8</td>\n",
       "    </tr>\n",
       "    <tr>\n",
       "      <th>LeBron James</th>\n",
       "      <td>844.8</td>\n",
       "    </tr>\n",
       "    <tr>\n",
       "      <th>Floyd Mayweather</th>\n",
       "      <td>840.0</td>\n",
       "    </tr>\n",
       "  </tbody>\n",
       "</table>\n",
       "</div>"
      ],
      "text/plain": [
       "                  earnings ($ million)\n",
       "Name                                  \n",
       "Tiger Woods                     1373.8\n",
       "LeBron James                     844.8\n",
       "Floyd Mayweather                 840.0"
      ]
     },
     "execution_count": 45,
     "metadata": {},
     "output_type": "execute_result"
    }
   ],
   "source": [
    "total_earn = pd.pivot_table(data1, index='Name', values='earnings ($ million)', aggfunc='sum')\n",
    "top3_total = total_earn.sort_values(by='earnings ($ million)', ascending=False)[:3]\n",
    "top3_total"
   ]
  },
  {
   "cell_type": "markdown",
   "id": "57b4bd2e-60fe-4856-9e1d-04e551291f6d",
   "metadata": {},
   "source": [
    "## Tiger Woods's earning over the years"
   ]
  },
  {
   "cell_type": "code",
   "execution_count": 56,
   "id": "16ef0a94-14e6-4247-bc15-1e96078c5971",
   "metadata": {},
   "outputs": [
    {
     "data": {
      "image/png": "[encoded data removed]",
      "text/plain": [
       "<Figure size 864x432 with 1 Axes>"
      ]
     },
     "metadata": {
      "needs_background": "light"
     },
     "output_type": "display_data"
    }
   ],
   "source": [
    "import numpy as np\n",
    "tgw = data1[data1.Name == 'Tiger Woods']\n",
    "plt.figure(figsize=(12,6))\n",
    "plt.scatter(tgw.index, tgw['earnings ($ million)'], c='blue')\n",
    "plt.plot(tgw.index, tgw['earnings ($ million)'], linestyle='solid')\n",
    "plt.title(\"Tiger Woods's Earnings Over the Years\")\n",
    "plt.xticks(np.arange(1990,2021,2))\n",
    "plt.xlabel('Year')\n",
    "plt.yticks(np.arange(0,130,10))\n",
    "plt.ylabel('$ Million')\n",
    "plt.show()"
   ]
  },
  {
   "cell_type": "markdown",
   "id": "97eaded8-07ae-4855-960f-5fac6fa28857",
   "metadata": {},
   "source": [
    "## LeBron James's earnings over the year"
   ]
  },
  {
   "cell_type": "code",
   "execution_count": 62,
   "id": "3dd4b02f-9245-4ddd-b16c-e901011cc9b7",
   "metadata": {},
   "outputs": [
    {
     "data": {
      "image/png": "[encoded data removed]",
      "text/plain": [
       "<Figure size 864x432 with 1 Axes>"
      ]
     },
     "metadata": {
      "needs_background": "light"
     },
     "output_type": "display_data"
    }
   ],
   "source": [
    "lbj = data1[data1.Name == 'LeBron James']\n",
    "plt.figure(figsize=(12,6))\n",
    "plt.scatter(lbj.index, lbj['earnings ($ million)'], c='blue')\n",
    "plt.plot(lbj.index, lbj['earnings ($ million)'], linestyle='solid')\n",
    "plt.title(\"LeBron James's Earnings Over the Years\")\n",
    "plt.xticks(np.arange(2008,2021,2))\n",
    "plt.xlabel('Year')\n",
    "plt.yticks(np.arange(0,110,10))\n",
    "plt.ylabel('$ Million')\n",
    "plt.show()"
   ]
  },
  {
   "cell_type": "markdown",
   "id": "ca7822d2-5650-4902-ad1b-0816a35dc264",
   "metadata": {},
   "source": [
    "## Floyd Mayweather's earnings over the years"
   ]
  },
  {
   "cell_type": "code",
   "execution_count": 61,
   "id": "985dac55-996a-4c34-9d7d-95986198eb2e",
   "metadata": {},
   "outputs": [
    {
     "data": {
      "image/png": "[encoded data removed]",
      "text/plain": [
       "<Figure size 864x432 with 1 Axes>"
      ]
     },
     "metadata": {
      "needs_background": "light"
     },
     "output_type": "display_data"
    }
   ],
   "source": [
    "fmw = data1[data1.Name == 'Floyd Mayweather']\n",
    "plt.figure(figsize=(12,6))\n",
    "plt.scatter(fmw.index, fmw['earnings ($ million)'], c='blue')\n",
    "plt.plot(fmw.index, fmw['earnings ($ million)'], linestyle='solid')\n",
    "plt.title(\"Floyd Mayweather's Earnings Over the Years\")\n",
    "plt.xticks(np.arange(2008,2021,2))\n",
    "plt.xlabel('Year')\n",
    "plt.yticks(np.arange(0,310,30))\n",
    "plt.ylabel('$ Million')\n",
    "plt.show()"
   ]
  },
  {
   "cell_type": "markdown",
   "id": "d6499b91-9e28-4a10-815b-a5c198d679f4",
   "metadata": {},
   "source": [
    "## Findings"
   ]
  },
  {
   "cell_type": "markdown",
   "id": "581de191-00c5-4ee9-8aa1-db8a37d64684",
   "metadata": {},
   "source": [
    "- Roger Federed own the most earning in 2020 with more than 100 million dollar while Mike Tyson as the highest earning athlete  in 1990 only made below 30 million\n",
    "- Floyd Mayweather has the largest earning with 300 million in 2015 and 285 million in 2018\n",
    "- 68,44% Athletes with highest earnings come from USA\n",
    "- Michael Jordan and Tiger Woods mentioned 19 times in the list from 1990 - 2020\n",
    "- Basketball become sport with the most athlete mentioned in the list with more than 80 times, followed by boxing and golf with almost 50 times mentioned\n",
    "- Basketball also become sport with largest total earnings with almost 3500 million\n",
    "- Tiger Woods has the largest total earnings with 1373,8 million, LeBron James in 2nd with 844,8 million, Floyd Mayweather 3rd with 840 million"
   ]
  },
  {
   "cell_type": "code",
   "execution_count": null,
   "id": "5427e4f9-10aa-44d5-b099-25b1d53bb418",
   "metadata": {},
   "outputs": [],
   "source": []
  }
 ],
 "metadata": {
  "kernelspec": {
   "display_name": "Python 3",
   "language": "python",
   "name": "python3"
  },
  "language_info": {
   "codemirror_mode": {
    "name": "ipython",
    "version": 3
   },
   "file_extension": ".py",
   "mimetype": "text/x-python",
   "name": "python",
   "nbconvert_exporter": "python",
   "pygments_lexer": "ipython3",
   "version": "3.8.3rc1"
  }
 },
 "nbformat": 4,
 "nbformat_minor": 5
}
